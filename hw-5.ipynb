{
 "cells": [
  {
   "cell_type": "code",
   "execution_count": 1,
   "metadata": {
    "executionInfo": {
     "elapsed": 256,
     "status": "ok",
     "timestamp": 1698237985085,
     "user": {
      "displayName": "Denys Filichkin",
      "userId": "08063735059536162815"
     },
     "user_tz": -180
    },
    "id": "IRY8OKX4lfOg"
   },
   "outputs": [],
   "source": [
    "import os\n",
    "import pandas as pd"
   ]
  },
  {
   "cell_type": "code",
   "execution_count": 2,
   "metadata": {},
   "outputs": [],
   "source": [
    "folder_path = \"data\""
   ]
  },
  {
   "cell_type": "code",
   "execution_count": 3,
   "metadata": {},
   "outputs": [],
   "source": [
    "combined_data = pd.DataFrame()"
   ]
  },
  {
   "cell_type": "code",
   "execution_count": 4,
   "metadata": {
    "id": "e_TIQyTSUmtg"
   },
   "outputs": [],
   "source": [
    "for file_name in os.listdir(folder_path):\n",
    "    folder = os.path.join(folder_path, file_name)\n",
    "    # Пройти всі файли в поточній теці\n",
    "    if os.path.isdir(folder):\n",
    "        for file_name in os.listdir(folder):\n",
    "            file = os.path.join(folder, file_name)\n",
    "            if file.endswith(\".csv\"):\n",
    "               # Зчитати дані з dataset\n",
    "                data = pd.read_csv(file)\n",
    "                # Додаємо колонку з назвою діяльності\n",
    "                data[\"actives\"] = file_name\n",
    "                # Зберегти об'єднані дані у теці data\n",
    "                combined_data = pd.concat([combined_data, data])"
   ]
  },
  {
   "cell_type": "code",
   "execution_count": 5,
   "metadata": {
    "colab": {
     "base_uri": "https://localhost:8080/",
     "height": 314
    },
    "executionInfo": {
     "elapsed": 767,
     "status": "error",
     "timestamp": 1698233608836,
     "user": {
      "displayName": "Denys Filichkin",
      "userId": "08063735059536162815"
     },
     "user_tz": -180
    },
    "id": "LT2xzH5QjiqS",
    "outputId": "f2ab8056-2a00-4d96-e66d-1477a1f26db0"
   },
   "outputs": [
    {
     "data": {
      "text/html": [
       "<div>\n",
       "<style scoped>\n",
       "    .dataframe tbody tr th:only-of-type {\n",
       "        vertical-align: middle;\n",
       "    }\n",
       "\n",
       "    .dataframe tbody tr th {\n",
       "        vertical-align: top;\n",
       "    }\n",
       "\n",
       "    .dataframe thead th {\n",
       "        text-align: right;\n",
       "    }\n",
       "</style>\n",
       "<table border=\"1\" class=\"dataframe\">\n",
       "  <thead>\n",
       "    <tr style=\"text-align: right;\">\n",
       "      <th></th>\n",
       "      <th>accelerometer_X</th>\n",
       "      <th>accelerometer_Y</th>\n",
       "      <th>accelerometer_Z</th>\n",
       "      <th>actives</th>\n",
       "    </tr>\n",
       "  </thead>\n",
       "  <tbody>\n",
       "    <tr>\n",
       "      <th>0</th>\n",
       "      <td>1.000776</td>\n",
       "      <td>4.616021</td>\n",
       "      <td>8.576031</td>\n",
       "      <td>idle-1.csv</td>\n",
       "    </tr>\n",
       "    <tr>\n",
       "      <th>1</th>\n",
       "      <td>0.718261</td>\n",
       "      <td>4.209007</td>\n",
       "      <td>8.446744</td>\n",
       "      <td>idle-1.csv</td>\n",
       "    </tr>\n",
       "    <tr>\n",
       "      <th>2</th>\n",
       "      <td>-0.909797</td>\n",
       "      <td>-0.282516</td>\n",
       "      <td>9.203311</td>\n",
       "      <td>idle-1.csv</td>\n",
       "    </tr>\n",
       "    <tr>\n",
       "      <th>3</th>\n",
       "      <td>5.099650</td>\n",
       "      <td>0.148441</td>\n",
       "      <td>8.418014</td>\n",
       "      <td>idle-1.csv</td>\n",
       "    </tr>\n",
       "    <tr>\n",
       "      <th>4</th>\n",
       "      <td>1.762132</td>\n",
       "      <td>-0.162806</td>\n",
       "      <td>9.251195</td>\n",
       "      <td>idle-1.csv</td>\n",
       "    </tr>\n",
       "  </tbody>\n",
       "</table>\n",
       "</div>"
      ],
      "text/plain": [
       "   accelerometer_X  accelerometer_Y  accelerometer_Z     actives\n",
       "0         1.000776         4.616021         8.576031  idle-1.csv\n",
       "1         0.718261         4.209007         8.446744  idle-1.csv\n",
       "2        -0.909797        -0.282516         9.203311  idle-1.csv\n",
       "3         5.099650         0.148441         8.418014  idle-1.csv\n",
       "4         1.762132        -0.162806         9.251195  idle-1.csv"
      ]
     },
     "execution_count": 5,
     "metadata": {},
     "output_type": "execute_result"
    }
   ],
   "source": [
    "combined_data.head()"
   ]
  },
  {
   "cell_type": "code",
   "execution_count": 6,
   "metadata": {},
   "outputs": [
    {
     "data": {
      "text/plain": [
       "(193860, 4)"
      ]
     },
     "execution_count": 6,
     "metadata": {},
     "output_type": "execute_result"
    }
   ],
   "source": [
    "combined_data.shape"
   ]
  },
  {
   "cell_type": "code",
   "execution_count": 7,
   "metadata": {},
   "outputs": [],
   "source": [
    "# Визначення цільової змінної (target variable)\n",
    "y = combined_data['actives']\n",
    "\n",
    "# Визначення ознак (features)\n",
    "X = combined_data[['accelerometer_X', 'accelerometer_Y', 'accelerometer_Z']]"
   ]
  },
  {
   "cell_type": "code",
   "execution_count": 8,
   "metadata": {},
   "outputs": [],
   "source": [
    "from sklearn.model_selection import train_test_split\n",
    "\n",
    "# Розділення даних на тренувальний набір і тестовий набір (зазвичай відводять близько 20% для тесту)\n",
    "X_train, X_test, y_train, y_test = train_test_split(X, y, test_size=0.2, random_state=42)\n"
   ]
  },
  {
   "cell_type": "code",
   "execution_count": null,
   "metadata": {},
   "outputs": [],
   "source": [
    "from sklearn.svm import SVC\n",
    "# Створення моделі SVM\n",
    "svm_model = SVC(kernel='rbf', C=1.0, random_state=42)\n",
    "# Навчання моделі на тренувальних даних\n",
    "svm_model.fit(X_train, y_train)\n",
    "# Прогноз на тестовому наборі\n",
    "y_pred_svm = svm_model.predict(X_test)"
   ]
  },
  {
   "cell_type": "code",
   "execution_count": null,
   "metadata": {},
   "outputs": [],
   "source": [
    "print(y_pred_svm)"
   ]
  },
  {
   "cell_type": "code",
   "execution_count": null,
   "metadata": {},
   "outputs": [],
   "source": [
    "from sklearn.ensemble import RandomForestClassifier\n",
    "# Створення моделі Random Forest\n",
    "rf_model = RandomForestClassifier(n_estimators=100, random_state=42)\n",
    "# Навчання моделі на тренувальних даних\n",
    "rf_model.fit(X_train, y_train)\n",
    "# Прогноз на тестовому наборі\n",
    "y_pred_rf = rf_model.predict(X_test)\n"
   ]
  },
  {
   "cell_type": "code",
   "execution_count": null,
   "metadata": {},
   "outputs": [],
   "source": [
    "# Оцінка продуктивності моделей\n",
    "svm_accuracy = accuracy_score(y_test, svm_predictions)\n",
    "rf_accuracy = accuracy_score(y_test, rf_predictions)\n",
    "\n",
    "print(\"Точність моделі SVM:\", svm_accuracy)\n",
    "print(\"Точність моделі Випадкового лісу:\", rf_accuracy)"
   ]
  }
 ],
 "metadata": {
  "colab": {
   "authorship_tag": "ABX9TyOI2Q52IrXBJ5A3EYXaa8Py",
   "provenance": []
  },
  "kernelspec": {
   "display_name": "Python 3 (ipykernel)",
   "language": "python",
   "name": "python3"
  },
  "language_info": {
   "codemirror_mode": {
    "name": "ipython",
    "version": 3
   },
   "file_extension": ".py",
   "mimetype": "text/x-python",
   "name": "python",
   "nbconvert_exporter": "python",
   "pygments_lexer": "ipython3",
   "version": "3.11.3"
  }
 },
 "nbformat": 4,
 "nbformat_minor": 4
}
